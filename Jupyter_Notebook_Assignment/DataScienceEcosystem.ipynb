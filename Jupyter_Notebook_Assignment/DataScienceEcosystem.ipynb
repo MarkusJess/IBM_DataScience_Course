{
 "cells": [
  {
   "cell_type": "markdown",
   "id": "e216ec32-a825-4ba8-bd13-d60156572eb2",
   "metadata": {},
   "source": [
    "# Data Science Tools and Ecosystem"
   ]
  },
  {
   "cell_type": "markdown",
   "id": "df9e4ed2-85ba-4700-921d-7858b3251b0e",
   "metadata": {
    "tags": []
   },
   "source": [
    "## Author \n",
    "Markus Jesswein"
   ]
  },
  {
   "cell_type": "markdown",
   "id": "ff373b93-01fa-4216-98fa-01357ff4c9b1",
   "metadata": {},
   "source": [
    "In this notebook, Data Science Tools and Ecosystem are summarized."
   ]
  },
  {
   "cell_type": "markdown",
   "id": "12220d4f-bced-4719-9eb0-53154c1fecc8",
   "metadata": {},
   "source": [
    "**Objectives:**\n",
    "- Popular languages for Data Science\n",
    "- Commonly used libraries for Data Science\n",
    "- Data Science Tools"
   ]
  },
  {
   "cell_type": "markdown",
   "id": "0c3a9106-456a-4957-a39f-8d9c8d731717",
   "metadata": {},
   "source": [
    "Some of the popular languages that Data Scientists use are: \n",
    "1. Python\n",
    "2. R\n",
    "3. SQL"
   ]
  },
  {
   "cell_type": "markdown",
   "id": "3c43d090-6f55-45d9-a12e-d4232846dd23",
   "metadata": {},
   "source": [
    "Some of the commonly used libraries used by Data Scientists include: \n",
    "1. Pandas (Python)\n",
    "2. NumPy (Python) \n",
    "3. Matplotlib (Python)\n",
    "4. Scikit-learn (Python) "
   ]
  },
  {
   "cell_type": "markdown",
   "id": "6a554450-a854-4495-a60c-31044a7d71e4",
   "metadata": {},
   "source": [
    "| Data Science Tools | \n",
    "| ----------- |\n",
    "| JupyterLab |\n",
    "| VS Code |\n",
    "| RStudio |"
   ]
  },
  {
   "cell_type": "markdown",
   "id": "2ed4d5a1-ac05-429d-9a2d-35a497c4da16",
   "metadata": {},
   "source": [
    "### Below are a few examples of evaluating arithmetic expressions in Python"
   ]
  },
  {
   "cell_type": "code",
   "execution_count": 1,
   "id": "4fec04d7-115e-408c-89d6-9a982e427a3d",
   "metadata": {
    "tags": []
   },
   "outputs": [
    {
     "data": {
      "text/plain": [
       "17"
      ]
     },
     "execution_count": 1,
     "metadata": {},
     "output_type": "execute_result"
    }
   ],
   "source": [
    "# Tis is a simple arithmetic expression to multiply then add integeres\n",
    "(3*4)+5"
   ]
  },
  {
   "cell_type": "code",
   "execution_count": 4,
   "id": "40618271-6a04-4aed-8956-a1d4b5d94cfa",
   "metadata": {
    "tags": []
   },
   "outputs": [
    {
     "data": {
      "text/plain": [
       "3.3333333333333335"
      ]
     },
     "execution_count": 4,
     "metadata": {},
     "output_type": "execute_result"
    }
   ],
   "source": [
    "# This will convert 200 minutes to hours by diving (dividing) by 60\n",
    "200/60"
   ]
  }
 ],
 "metadata": {
  "kernelspec": {
   "display_name": "Python",
   "language": "python",
   "name": "conda-env-python-py"
  },
  "language_info": {
   "codemirror_mode": {
    "name": "ipython",
    "version": 3
   },
   "file_extension": ".py",
   "mimetype": "text/x-python",
   "name": "python",
   "nbconvert_exporter": "python",
   "pygments_lexer": "ipython3",
   "version": "3.7.12"
  }
 },
 "nbformat": 4,
 "nbformat_minor": 5
}
